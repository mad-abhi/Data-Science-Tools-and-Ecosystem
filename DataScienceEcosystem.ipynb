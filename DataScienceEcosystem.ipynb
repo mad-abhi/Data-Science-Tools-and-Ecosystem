{
 "cells": [
  {
   "cell_type": "markdown",
   "id": "006ae086",
   "metadata": {},
   "source": [
    "# Data Science Tools and Ecosystem"
   ]
  },
  {
   "cell_type": "markdown",
   "id": "d82fbbbc",
   "metadata": {},
   "source": [
    "In this notebook, Data Science Tools and Ecosystem are summarized.\n",
    "Tools: Programming languages, data science libraries, machine learning libraries, data visualization libraries, cloud computing platforms\n",
    "Resources: Online courses, tutorials, datasets, community forums"
   ]
  },
  {
   "cell_type": "markdown",
   "id": "d9e9237f",
   "metadata": {},
   "source": [
    "Some of the popular languages that data scientists use are:\n",
    "<li>Python</li>\n",
    "<li>R</li></li>\n",
    "<li>Julia</li>\n",
    "<li>Scala</li>"
   ]
  },
  {
   "cell_type": "markdown",
   "id": "af9c5536",
   "metadata": {},
   "source": [
    "Some of the commonly used libraries used by data scientists include:\n",
    "\n",
    "Python:\n",
    "<li>NumPy: Scientific computing library for Python</li>\n",
    "<li>Pandas: Data analysis library for Python</li>\n",
    "<li>Matplotlib: Data visualization library for Python</li>\n",
    "<li>SciPy: Scientific computing library for Python</li>\n",
    "<li>Scikit-learn: Machine learning library for Python</li>\n",
    "<li>TensorFlow: Machine learning library for Python</li>\n",
    "<li>PyTorch: Machine learning library for Python</li>\n",
    "\n",
    "R:\n",
    "\n",
    "<li>dplyr: Data manipulation library for R</li>\n",
    "<li>tidyr: Data cleaning library for R</li>\n",
    "<li>ggplot2: Data visualization library for R</li>\n",
    "<li>caret: Machine learning library for R</li>\n",
    "<li>mlr: Machine learning library for R</li>"
   ]
  },
  {
   "cell_type": "markdown",
   "id": "c88bcf74",
   "metadata": {},
   "source": [
    "| Data Science Tools |\n",
    "| --- |\n",
    "| Jupyter Notebook |\n",
    "| RStudio |\n",
    "| Visual Studio Code |"
   ]
  },
  {
   "cell_type": "markdown",
   "id": "e6350e29",
   "metadata": {},
   "source": [
    "### Below are a few examples of evaluating arithmetic expressions in Python"
   ]
  },
  {
   "cell_type": "code",
   "execution_count": 3,
   "id": "267d2a96",
   "metadata": {},
   "outputs": [
    {
     "data": {
      "text/plain": [
       "17"
      ]
     },
     "execution_count": 3,
     "metadata": {},
     "output_type": "execute_result"
    }
   ],
   "source": [
    "#This a simple arithmetic expression to mutiply then add integers\n",
    "(3*4)+5"
   ]
  },
  {
   "cell_type": "code",
   "execution_count": 5,
   "id": "feff60d4",
   "metadata": {},
   "outputs": [
    {
     "data": {
      "text/plain": [
       "3.3333333333333335"
      ]
     },
     "execution_count": 5,
     "metadata": {},
     "output_type": "execute_result"
    }
   ],
   "source": [
    "#This will convert 200 minutes to hours by diving by 60\n",
    "200/60"
   ]
  },
  {
   "cell_type": "markdown",
   "id": "62ab18dd",
   "metadata": {},
   "source": [
    "# Objectives:\n",
    "List popular languages for Data Science\n",
    "<li>Python</li>\n",
    "<li>R</li>\n",
    "<li>Scala</li>"
   ]
  },
  {
   "cell_type": "markdown",
   "id": "94c57677",
   "metadata": {},
   "source": [
    "## Author\n",
    "Abhishek Madhu"
   ]
  },
  {
   "cell_type": "code",
   "execution_count": null,
   "id": "5713aba8",
   "metadata": {},
   "outputs": [],
   "source": []
  }
 ],
 "metadata": {
  "kernelspec": {
   "display_name": "Python 3 (ipykernel)",
   "language": "python",
   "name": "python3"
  },
  "language_info": {
   "codemirror_mode": {
    "name": "ipython",
    "version": 3
   },
   "file_extension": ".py",
   "mimetype": "text/x-python",
   "name": "python",
   "nbconvert_exporter": "python",
   "pygments_lexer": "ipython3",
   "version": "3.11.3"
  }
 },
 "nbformat": 4,
 "nbformat_minor": 5
}
